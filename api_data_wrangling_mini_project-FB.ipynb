{
 "cells": [
  {
   "cell_type": "markdown",
   "metadata": {},
   "source": [
    "This exercise will require you to pull some data from the Qunadl API. Qaundl is currently the most widely used aggregator of financial market data."
   ]
  },
  {
   "cell_type": "markdown",
   "metadata": {},
   "source": [
    "As a first step, you will need to register a free account on the http://www.quandl.com website."
   ]
  },
  {
   "cell_type": "markdown",
   "metadata": {},
   "source": [
    "After you register, you will be provided with a unique API key, that you should store:"
   ]
  },
  {
   "cell_type": "code",
   "execution_count": 1,
   "metadata": {},
   "outputs": [],
   "source": [
    "# Store the API key as a string - according to PEP8, constants are always named in all upper case\n",
    "API_KEY = 'ExtsYKjwySN8eMHz1NhC'"
   ]
  },
  {
   "cell_type": "markdown",
   "metadata": {},
   "source": [
    "Qaundl has a large number of data sources, but, unfortunately, most of them require a Premium subscription. Still, there are also a good number of free datasets."
   ]
  },
  {
   "cell_type": "markdown",
   "metadata": {},
   "source": [
    "For this mini project, we will focus on equities data from the Frankfurt Stock Exhange (FSE), which is available for free. We'll try and analyze the stock prices of a company called Carl Zeiss Meditec, which manufactures tools for eye examinations, as well as medical lasers for laser eye surgery: https://www.zeiss.com/meditec/int/home.html. The company is listed under the stock ticker AFX_X."
   ]
  },
  {
   "cell_type": "markdown",
   "metadata": {},
   "source": [
    "You can find the detailed Quandl API instructions here: https://docs.quandl.com/docs/time-series"
   ]
  },
  {
   "cell_type": "markdown",
   "metadata": {},
   "source": [
    "While there is a dedicated Python package for connecting to the Quandl API, we would prefer that you use the *requests* package, which can be easily downloaded using *pip* or *conda*. You can find the documentation for the package here: http://docs.python-requests.org/en/master/ "
   ]
  },
  {
   "cell_type": "markdown",
   "metadata": {},
   "source": [
    "Finally, apart from the *requests* package, you are encouraged to not use any third party Python packages, such as *pandas*, and instead focus on what's available in the Python Standard Library (the *collections* module might come in handy: https://pymotw.com/3/collections/ ).\n",
    "Also, since you won't have access to DataFrames, you are encouraged to us Python's native data structures - preferably dictionaries, though some questions can also be answered using lists.\n",
    "You can read more on these data structures here: https://docs.python.org/3/tutorial/datastructures.html"
   ]
  },
  {
   "cell_type": "markdown",
   "metadata": {},
   "source": [
    "Keep in mind that the JSON responses you will be getting from the API map almost one-to-one to Python's dictionaries. Unfortunately, they can be very nested, so make sure you read up on indexing dictionaries in the documentation provided above."
   ]
  },
  {
   "cell_type": "code",
   "execution_count": 2,
   "metadata": {},
   "outputs": [],
   "source": [
    "# First, import the relevant modules\n",
    "import requests\n",
    "import collections\n"
   ]
  },
  {
   "cell_type": "code",
   "execution_count": 3,
   "metadata": {},
   "outputs": [
    {
     "name": "stdout",
     "output_type": "stream",
     "text": [
      "{'dataset': {'id': 10095370, 'dataset_code': 'AFX_X', 'database_code': 'FSE', 'name': 'Carl Zeiss Meditec (AFX_X)', 'description': 'Stock Prices for Carl Zeiss Meditec (2020-03-13) from the Frankfurt Stock Exchange.<br><br>Trading System: Xetra<br><br>ISIN: DE0005313704', 'refreshed_at': '2020-03-27T22:16:31.138Z', 'newest_available_date': '2020-03-27', 'oldest_available_date': '2000-06-07', 'column_names': ['Date', 'Open', 'High', 'Low', 'Close', 'Change', 'Traded Volume', 'Turnover', 'Last Price of the Day', 'Daily Traded Units', 'Daily Turnover'], 'frequency': 'daily', 'type': 'Time Series', 'premium': False, 'limit': None, 'transform': None, 'column_index': None, 'start_date': '2020-03-27', 'end_date': '2020-03-27', 'data': [['2020-03-27', 89.0, 90.85, 83.5, 83.95, None, 231618.0, 19986099.3, None, None, None]], 'collapse': None, 'order': None, 'database_id': 6129}}\n"
     ]
    }
   ],
   "source": [
    "# Now, call the Quandl API and pull out a small sample of the data (only one day) to get a glimpse\n",
    "# into the JSON structure that will be returned\n",
    "\n",
    "url = 'https://www.quandl.com/api/v3/datasets/FSE/AFX_X?start_date=2020-03-27&end_date=2020-03-27&api_key=ExtsYKjwySN8eMHz1NhC'\n",
    "res = requests.get(url)\n",
    "data_json=res.json()\n",
    "print(data_json)\n"
   ]
  },
  {
   "cell_type": "code",
   "execution_count": 4,
   "metadata": {},
   "outputs": [],
   "source": [
    "# Inspect the JSON structure of the object you created, and take note of how nested it is,\n",
    "# as well as the overall structure\n",
    "\n",
    "#First level dictionary has one key: dataset. \n",
    "#The items with 'dataset' key is a dictionary with several key:values.\n",
    "#Nested dictionary has following keys:\n",
    "\n",
    "#['id', 'dataset_code', 'database_code', 'name', 'description', 'refreshed_at', 'newest_available_date', 'oldest_available_date', 'column_names', 'frequency', 'type', 'premium', 'limit', 'transform', 'column_index', 'start_date', 'end_date', 'data', 'collapse', 'order', 'database_id'])"
   ]
  },
  {
   "cell_type": "markdown",
   "metadata": {},
   "source": [
    "These are your tasks for this mini project:\n",
    "\n",
    "1. Collect data from the Franfurt Stock Exchange, for the ticker AFX_X, for the whole year 2017 (keep in mind that the date format is YYYY-MM-DD).\n",
    "2. Convert the returned JSON object into a Python dictionary.\n",
    "3. Calculate what the highest and lowest opening prices were for the stock in this period.\n",
    "4. What was the largest change in any one day (based on High and Low price)?\n",
    "5. What was the largest change between any two days (based on Closing Price)?\n",
    "6. What was the average daily trading volume during this year?\n",
    "7. (Optional) What was the median trading volume during this year. (Note: you may need to implement your own function for calculating the median.)"
   ]
  },
  {
   "cell_type": "code",
   "execution_count": 5,
   "metadata": {},
   "outputs": [],
   "source": [
    "#1.Collect data from the Franfurt Stock Exchange, for the ticker AFX_X, for the whole year 2017 (keep in mind that the date format is YYYY-MM-DD).\n",
    "#2.Convert the returned JSON object into a Python dictionary"
   ]
  },
  {
   "cell_type": "code",
   "execution_count": 6,
   "metadata": {},
   "outputs": [],
   "source": [
    "url = 'https://www.quandl.com/api/v3/datasets/FSE/AFX_X?start_date=2017-01-01&end_date=2017-12-31&api_key=ExtsYKjwySN8eMHz1NhC'\n",
    "res = requests.get(url)\n",
    "data_json=res.json()\n",
    "py_dict=data_json['dataset']\n",
    "#print(py_dict)"
   ]
  },
  {
   "cell_type": "code",
   "execution_count": 7,
   "metadata": {},
   "outputs": [
    {
     "data": {
      "text/plain": [
       "['Date',\n",
       " 'Open',\n",
       " 'High',\n",
       " 'Low',\n",
       " 'Close',\n",
       " 'Change',\n",
       " 'Traded Volume',\n",
       " 'Turnover',\n",
       " 'Last Price of the Day',\n",
       " 'Daily Traded Units',\n",
       " 'Daily Turnover']"
      ]
     },
     "execution_count": 7,
     "metadata": {},
     "output_type": "execute_result"
    }
   ],
   "source": [
    "#Create a list 'data_SFX_FSE' using 'data' key of py_dict. The column names of the key 'data' in py_dict can be accessed with \n",
    "# key 'column_names' of py_dict\n",
    "\n",
    "data_AFX_FSE=py_dict['data']\n",
    "Columns_AFX_FSE=py_dict['column_names']\n",
    "Columns_AFX_FSE"
   ]
  },
  {
   "cell_type": "code",
   "execution_count": 8,
   "metadata": {},
   "outputs": [],
   "source": [
    "#3.Calculate what the highest and lowest opening prices were for the stock in this period"
   ]
  },
  {
   "cell_type": "code",
   "execution_count": 9,
   "metadata": {},
   "outputs": [
    {
     "name": "stdout",
     "output_type": "stream",
     "text": [
      "Maximum open price is 53.11\n",
      "Minimum open price is 34.0\n"
     ]
    }
   ],
   "source": [
    "#Create a list of all open prices by going over two dimen list 'data_AFX_FSE' and accessing item at index 1 (open col).\n",
    "#Find max and min values from the newly created list by using python functions, max and min\n",
    "#Note: there are some \"None\" values in the data apart from float. Max and Min functions don't work with \"NoneType\" and \"Float\"\n",
    "#data together. Therfore I had to create list with all float numbers only\n",
    "\n",
    "open_prices=[]\n",
    "for i in range(len(data_AFX_FSE)):\n",
    "    if type(data_AFX_FSE[i][1]) == float:\n",
    "        open_prices.append(data_AFX_FSE[i][1])\n",
    "# MAX open price\n",
    "print('Maximum open price is', max(open_prices))\n",
    "print('Minimum open price is', min(open_prices))\n"
   ]
  },
  {
   "cell_type": "code",
   "execution_count": 10,
   "metadata": {},
   "outputs": [],
   "source": [
    "#4.What was the largest change in any one day (based on High and Low price)?"
   ]
  },
  {
   "cell_type": "code",
   "execution_count": 11,
   "metadata": {},
   "outputs": [
    {
     "name": "stdout",
     "output_type": "stream",
     "text": [
      "Largest change in one day based on high and low prices is 2.81\n"
     ]
    }
   ],
   "source": [
    "#Create two lists (high and low prices) by going over two dimen list 'data_AFX_FSE' and accessing item at index 2 (high col) and index 3 (low col).\n",
    "#Take the difference between the two values in each list\n",
    "\n",
    "high_prices=[]\n",
    "low_prices=[]\n",
    "diff=[]\n",
    "for i in range(len(data_AFX_FSE)):\n",
    "    if type(data_AFX_FSE[i][2]) == float:\n",
    "        high_prices.append(data_AFX_FSE[i][2])\n",
    "for i in range(len(data_AFX_FSE)):\n",
    "     if type(data_AFX_FSE[i][3]) == float:\n",
    "        low_prices.append(data_AFX_FSE[i][3])\n",
    "for i in range(len(high_prices)):\n",
    "    diff.append(round((high_prices[i]-low_prices[i]),2))\n",
    "#largest change in one day based on high and low price\n",
    "print('Largest change in one day based on high and low prices is',max(diff))\n"
   ]
  },
  {
   "cell_type": "code",
   "execution_count": 12,
   "metadata": {},
   "outputs": [],
   "source": [
    "#5.What was the largest change between any two days (based on Closing Price)?"
   ]
  },
  {
   "cell_type": "code",
   "execution_count": 13,
   "metadata": {},
   "outputs": [
    {
     "name": "stdout",
     "output_type": "stream",
     "text": [
      "The largest change between two consecutive days is 2.56\n"
     ]
    }
   ],
   "source": [
    "#Create a list of all close prices by going over two dimen list 'data_AFX_FSE' and accessing item at index 4 (close col).\n",
    "#create a list (change[])of numbers such that each value is difference between i+1 and i-th value of close_price list. Find\n",
    "#the max number from the change[] list by applying max func. Apply round func to difference values round decimal at 100th place. \n",
    "#Take absolute value (abs) in case the numbers are negative.\n",
    "\n",
    "close_prices=[]\n",
    "change=[]\n",
    "\n",
    "for i in range(len(data_AFX_FSE)):\n",
    "    if type(data_AFX_FSE[i][4]) == float:\n",
    "        close_prices.append(data_AFX_FSE[i][4])\n",
    "\n",
    "for i in range(len(close_prices)):\n",
    "    if i < len(close_prices)-1:\n",
    "        change.append(abs(round((close_prices[i+1]-close_prices[i]),2)))\n",
    "        \n",
    "print('The largest change between two consecutive days is', max(change) )"
   ]
  },
  {
   "cell_type": "code",
   "execution_count": 14,
   "metadata": {},
   "outputs": [],
   "source": [
    "#6. What was the average daily trading volume during this year?"
   ]
  },
  {
   "cell_type": "code",
   "execution_count": 15,
   "metadata": {},
   "outputs": [
    {
     "name": "stdout",
     "output_type": "stream",
     "text": [
      "Average daily trading volume during year 2017 is 89124.34\n"
     ]
    }
   ],
   "source": [
    "##Create a list of all trade volumes by going over two dimen list 'data_AFX_FSE' and accessing item at index 6 (Traded Volume col).\n",
    "#Take sum of all the numbers and dividing by total numbers in the list\n",
    "\n",
    "trade_vol=[]\n",
    "sum=0\n",
    "\n",
    "for i in range(len(data_AFX_FSE)):\n",
    "    if type(data_AFX_FSE[i][6]) == float:\n",
    "        trade_vol.append(data_AFX_FSE[i][6])\n",
    "\n",
    "for i in range(len(trade_vol)):\n",
    "    sum+=trade_vol[i]\n",
    "print('Average daily trading volume during year 2017 is', round((sum/len(trade_vol)),2))"
   ]
  },
  {
   "cell_type": "code",
   "execution_count": 16,
   "metadata": {},
   "outputs": [],
   "source": [
    "#7.(Optional) What was the median trading volume during this year. (Note: you may need to implement your own function for calculating the median.)"
   ]
  },
  {
   "cell_type": "code",
   "execution_count": 17,
   "metadata": {},
   "outputs": [
    {
     "name": "stdout",
     "output_type": "stream",
     "text": [
      "The median of the Traded Volume is  76286.0\n"
     ]
    }
   ],
   "source": [
    "#The list traded_vol already exists (Q6). Write a function for median. \n",
    "#Func description: \n",
    "###The median of a SORTED list is the middle value if list\n",
    "###length is a odd number. Median is sum of two middle numbers divided by 2 if length of the list if an even number. \n",
    "# Pass list teaded_vol to the median function to get median value.\n",
    "import math\n",
    "def median(l):\n",
    "    l.sort()\n",
    "    length=len(l)\n",
    "    if length % 2 == 0:\n",
    "        median=(l[length/2]+l[length/2 -1 ])/2\n",
    "    else:\n",
    "        median=l[math.floor(length/2)]\n",
    "    return median\n",
    "\n",
    "print(\"The Median of the Traded Volume is \", median(trade_vol))"
   ]
  }
 ],
 "metadata": {
  "kernelspec": {
   "display_name": "Python 3",
   "language": "python",
   "name": "python3"
  },
  "language_info": {
   "codemirror_mode": {
    "name": "ipython",
    "version": 3
   },
   "file_extension": ".py",
   "mimetype": "text/x-python",
   "name": "python",
   "nbconvert_exporter": "python",
   "pygments_lexer": "ipython3",
   "version": "3.7.6"
  }
 },
 "nbformat": 4,
 "nbformat_minor": 2
}
